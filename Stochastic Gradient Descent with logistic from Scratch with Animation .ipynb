{
 "cells": [
  {
   "cell_type": "markdown",
   "id": "244d9c59",
   "metadata": {},
   "source": [
    "## Stochastic Gradient Descent with Logistic Regression from Scratch "
   ]
  },
  {
   "cell_type": "code",
   "execution_count": 1,
   "id": "1a0aa9b1",
   "metadata": {},
   "outputs": [],
   "source": [
    "import pandas as pd\n",
    "import numpy as np\n",
    "\n"
   ]
  },
  {
   "cell_type": "code",
   "execution_count": 2,
   "id": "da63ee41",
   "metadata": {},
   "outputs": [],
   "source": [
    "from sklearn.datasets import load_wine\n",
    "wine = load_wine()\n",
    "X = wine.data"
   ]
  },
  {
   "cell_type": "code",
   "execution_count": 3,
   "id": "be6ed12b",
   "metadata": {},
   "outputs": [
    {
     "data": {
      "text/html": [
       "<div>\n",
       "<style scoped>\n",
       "    .dataframe tbody tr th:only-of-type {\n",
       "        vertical-align: middle;\n",
       "    }\n",
       "\n",
       "    .dataframe tbody tr th {\n",
       "        vertical-align: top;\n",
       "    }\n",
       "\n",
       "    .dataframe thead th {\n",
       "        text-align: right;\n",
       "    }\n",
       "</style>\n",
       "<table border=\"1\" class=\"dataframe\">\n",
       "  <thead>\n",
       "    <tr style=\"text-align: right;\">\n",
       "      <th></th>\n",
       "      <th>0</th>\n",
       "      <th>1</th>\n",
       "      <th>2</th>\n",
       "      <th>3</th>\n",
       "      <th>4</th>\n",
       "      <th>5</th>\n",
       "      <th>6</th>\n",
       "      <th>7</th>\n",
       "      <th>8</th>\n",
       "      <th>9</th>\n",
       "      <th>10</th>\n",
       "      <th>11</th>\n",
       "      <th>12</th>\n",
       "    </tr>\n",
       "  </thead>\n",
       "  <tbody>\n",
       "    <tr>\n",
       "      <th>0</th>\n",
       "      <td>14.23</td>\n",
       "      <td>1.71</td>\n",
       "      <td>2.43</td>\n",
       "      <td>15.6</td>\n",
       "      <td>127.0</td>\n",
       "      <td>2.80</td>\n",
       "      <td>3.06</td>\n",
       "      <td>0.28</td>\n",
       "      <td>2.29</td>\n",
       "      <td>5.64</td>\n",
       "      <td>1.04</td>\n",
       "      <td>3.92</td>\n",
       "      <td>1065.0</td>\n",
       "    </tr>\n",
       "    <tr>\n",
       "      <th>1</th>\n",
       "      <td>13.20</td>\n",
       "      <td>1.78</td>\n",
       "      <td>2.14</td>\n",
       "      <td>11.2</td>\n",
       "      <td>100.0</td>\n",
       "      <td>2.65</td>\n",
       "      <td>2.76</td>\n",
       "      <td>0.26</td>\n",
       "      <td>1.28</td>\n",
       "      <td>4.38</td>\n",
       "      <td>1.05</td>\n",
       "      <td>3.40</td>\n",
       "      <td>1050.0</td>\n",
       "    </tr>\n",
       "    <tr>\n",
       "      <th>2</th>\n",
       "      <td>13.16</td>\n",
       "      <td>2.36</td>\n",
       "      <td>2.67</td>\n",
       "      <td>18.6</td>\n",
       "      <td>101.0</td>\n",
       "      <td>2.80</td>\n",
       "      <td>3.24</td>\n",
       "      <td>0.30</td>\n",
       "      <td>2.81</td>\n",
       "      <td>5.68</td>\n",
       "      <td>1.03</td>\n",
       "      <td>3.17</td>\n",
       "      <td>1185.0</td>\n",
       "    </tr>\n",
       "    <tr>\n",
       "      <th>3</th>\n",
       "      <td>14.37</td>\n",
       "      <td>1.95</td>\n",
       "      <td>2.50</td>\n",
       "      <td>16.8</td>\n",
       "      <td>113.0</td>\n",
       "      <td>3.85</td>\n",
       "      <td>3.49</td>\n",
       "      <td>0.24</td>\n",
       "      <td>2.18</td>\n",
       "      <td>7.80</td>\n",
       "      <td>0.86</td>\n",
       "      <td>3.45</td>\n",
       "      <td>1480.0</td>\n",
       "    </tr>\n",
       "    <tr>\n",
       "      <th>4</th>\n",
       "      <td>13.24</td>\n",
       "      <td>2.59</td>\n",
       "      <td>2.87</td>\n",
       "      <td>21.0</td>\n",
       "      <td>118.0</td>\n",
       "      <td>2.80</td>\n",
       "      <td>2.69</td>\n",
       "      <td>0.39</td>\n",
       "      <td>1.82</td>\n",
       "      <td>4.32</td>\n",
       "      <td>1.04</td>\n",
       "      <td>2.93</td>\n",
       "      <td>735.0</td>\n",
       "    </tr>\n",
       "    <tr>\n",
       "      <th>...</th>\n",
       "      <td>...</td>\n",
       "      <td>...</td>\n",
       "      <td>...</td>\n",
       "      <td>...</td>\n",
       "      <td>...</td>\n",
       "      <td>...</td>\n",
       "      <td>...</td>\n",
       "      <td>...</td>\n",
       "      <td>...</td>\n",
       "      <td>...</td>\n",
       "      <td>...</td>\n",
       "      <td>...</td>\n",
       "      <td>...</td>\n",
       "    </tr>\n",
       "    <tr>\n",
       "      <th>173</th>\n",
       "      <td>13.71</td>\n",
       "      <td>5.65</td>\n",
       "      <td>2.45</td>\n",
       "      <td>20.5</td>\n",
       "      <td>95.0</td>\n",
       "      <td>1.68</td>\n",
       "      <td>0.61</td>\n",
       "      <td>0.52</td>\n",
       "      <td>1.06</td>\n",
       "      <td>7.70</td>\n",
       "      <td>0.64</td>\n",
       "      <td>1.74</td>\n",
       "      <td>740.0</td>\n",
       "    </tr>\n",
       "    <tr>\n",
       "      <th>174</th>\n",
       "      <td>13.40</td>\n",
       "      <td>3.91</td>\n",
       "      <td>2.48</td>\n",
       "      <td>23.0</td>\n",
       "      <td>102.0</td>\n",
       "      <td>1.80</td>\n",
       "      <td>0.75</td>\n",
       "      <td>0.43</td>\n",
       "      <td>1.41</td>\n",
       "      <td>7.30</td>\n",
       "      <td>0.70</td>\n",
       "      <td>1.56</td>\n",
       "      <td>750.0</td>\n",
       "    </tr>\n",
       "    <tr>\n",
       "      <th>175</th>\n",
       "      <td>13.27</td>\n",
       "      <td>4.28</td>\n",
       "      <td>2.26</td>\n",
       "      <td>20.0</td>\n",
       "      <td>120.0</td>\n",
       "      <td>1.59</td>\n",
       "      <td>0.69</td>\n",
       "      <td>0.43</td>\n",
       "      <td>1.35</td>\n",
       "      <td>10.20</td>\n",
       "      <td>0.59</td>\n",
       "      <td>1.56</td>\n",
       "      <td>835.0</td>\n",
       "    </tr>\n",
       "    <tr>\n",
       "      <th>176</th>\n",
       "      <td>13.17</td>\n",
       "      <td>2.59</td>\n",
       "      <td>2.37</td>\n",
       "      <td>20.0</td>\n",
       "      <td>120.0</td>\n",
       "      <td>1.65</td>\n",
       "      <td>0.68</td>\n",
       "      <td>0.53</td>\n",
       "      <td>1.46</td>\n",
       "      <td>9.30</td>\n",
       "      <td>0.60</td>\n",
       "      <td>1.62</td>\n",
       "      <td>840.0</td>\n",
       "    </tr>\n",
       "    <tr>\n",
       "      <th>177</th>\n",
       "      <td>14.13</td>\n",
       "      <td>4.10</td>\n",
       "      <td>2.74</td>\n",
       "      <td>24.5</td>\n",
       "      <td>96.0</td>\n",
       "      <td>2.05</td>\n",
       "      <td>0.76</td>\n",
       "      <td>0.56</td>\n",
       "      <td>1.35</td>\n",
       "      <td>9.20</td>\n",
       "      <td>0.61</td>\n",
       "      <td>1.60</td>\n",
       "      <td>560.0</td>\n",
       "    </tr>\n",
       "  </tbody>\n",
       "</table>\n",
       "<p>178 rows × 13 columns</p>\n",
       "</div>"
      ],
      "text/plain": [
       "        0     1     2     3      4     5     6     7     8      9     10  \\\n",
       "0    14.23  1.71  2.43  15.6  127.0  2.80  3.06  0.28  2.29   5.64  1.04   \n",
       "1    13.20  1.78  2.14  11.2  100.0  2.65  2.76  0.26  1.28   4.38  1.05   \n",
       "2    13.16  2.36  2.67  18.6  101.0  2.80  3.24  0.30  2.81   5.68  1.03   \n",
       "3    14.37  1.95  2.50  16.8  113.0  3.85  3.49  0.24  2.18   7.80  0.86   \n",
       "4    13.24  2.59  2.87  21.0  118.0  2.80  2.69  0.39  1.82   4.32  1.04   \n",
       "..     ...   ...   ...   ...    ...   ...   ...   ...   ...    ...   ...   \n",
       "173  13.71  5.65  2.45  20.5   95.0  1.68  0.61  0.52  1.06   7.70  0.64   \n",
       "174  13.40  3.91  2.48  23.0  102.0  1.80  0.75  0.43  1.41   7.30  0.70   \n",
       "175  13.27  4.28  2.26  20.0  120.0  1.59  0.69  0.43  1.35  10.20  0.59   \n",
       "176  13.17  2.59  2.37  20.0  120.0  1.65  0.68  0.53  1.46   9.30  0.60   \n",
       "177  14.13  4.10  2.74  24.5   96.0  2.05  0.76  0.56  1.35   9.20  0.61   \n",
       "\n",
       "       11      12  \n",
       "0    3.92  1065.0  \n",
       "1    3.40  1050.0  \n",
       "2    3.17  1185.0  \n",
       "3    3.45  1480.0  \n",
       "4    2.93   735.0  \n",
       "..    ...     ...  \n",
       "173  1.74   740.0  \n",
       "174  1.56   750.0  \n",
       "175  1.56   835.0  \n",
       "176  1.62   840.0  \n",
       "177  1.60   560.0  \n",
       "\n",
       "[178 rows x 13 columns]"
      ]
     },
     "execution_count": 3,
     "metadata": {},
     "output_type": "execute_result"
    }
   ],
   "source": [
    "\n",
    "pd.DataFrame(X)"
   ]
  },
  {
   "cell_type": "code",
   "execution_count": 4,
   "id": "d25c4701",
   "metadata": {},
   "outputs": [
    {
     "data": {
      "text/plain": [
       "['alcohol',\n",
       " 'malic_acid',\n",
       " 'ash',\n",
       " 'alcalinity_of_ash',\n",
       " 'magnesium',\n",
       " 'total_phenols',\n",
       " 'flavanoids',\n",
       " 'nonflavanoid_phenols',\n",
       " 'proanthocyanins',\n",
       " 'color_intensity',\n",
       " 'hue',\n",
       " 'od280/od315_of_diluted_wines',\n",
       " 'proline']"
      ]
     },
     "execution_count": 4,
     "metadata": {},
     "output_type": "execute_result"
    }
   ],
   "source": [
    "wine.feature_names"
   ]
  },
  {
   "cell_type": "code",
   "execution_count": 5,
   "id": "ccf49f5c",
   "metadata": {},
   "outputs": [
    {
     "data": {
      "text/plain": [
       "array(['class_0', 'class_1', 'class_2'], dtype='<U7')"
      ]
     },
     "execution_count": 5,
     "metadata": {},
     "output_type": "execute_result"
    }
   ],
   "source": [
    "wine.target_names"
   ]
  },
  {
   "cell_type": "code",
   "execution_count": 6,
   "id": "894808f8",
   "metadata": {},
   "outputs": [
    {
     "name": "stdout",
     "output_type": "stream",
     "text": [
      "X shape  (178,)  y shape   (178,)\n"
     ]
    }
   ],
   "source": [
    "from sklearn.datasets import load_wine\n",
    "wine = load_wine()\n",
    "X = wine.data[:, 6] # flavanoids\n",
    "y = wine.target\n",
    "\n",
    "print(\"X shape \" , X.shape , \" y shape  \" , y.shape)"
   ]
  },
  {
   "cell_type": "code",
   "execution_count": 7,
   "id": "619fe9cc",
   "metadata": {},
   "outputs": [],
   "source": [
    " z = pd.DataFrame(np.vstack((y,X)).T)"
   ]
  },
  {
   "cell_type": "code",
   "execution_count": 8,
   "id": "87c9265b",
   "metadata": {},
   "outputs": [],
   "source": [
    "tz = z[(z[0] == 0) | (z[0] == 1)]"
   ]
  },
  {
   "cell_type": "code",
   "execution_count": 9,
   "id": "b883f3b5",
   "metadata": {},
   "outputs": [
    {
     "data": {
      "text/html": [
       "<div>\n",
       "<style scoped>\n",
       "    .dataframe tbody tr th:only-of-type {\n",
       "        vertical-align: middle;\n",
       "    }\n",
       "\n",
       "    .dataframe tbody tr th {\n",
       "        vertical-align: top;\n",
       "    }\n",
       "\n",
       "    .dataframe thead th {\n",
       "        text-align: right;\n",
       "    }\n",
       "</style>\n",
       "<table border=\"1\" class=\"dataframe\">\n",
       "  <thead>\n",
       "    <tr style=\"text-align: right;\">\n",
       "      <th></th>\n",
       "      <th>0</th>\n",
       "      <th>1</th>\n",
       "    </tr>\n",
       "  </thead>\n",
       "  <tbody>\n",
       "    <tr>\n",
       "      <th>0</th>\n",
       "      <td>0.0</td>\n",
       "      <td>3.06</td>\n",
       "    </tr>\n",
       "    <tr>\n",
       "      <th>1</th>\n",
       "      <td>0.0</td>\n",
       "      <td>2.76</td>\n",
       "    </tr>\n",
       "    <tr>\n",
       "      <th>2</th>\n",
       "      <td>0.0</td>\n",
       "      <td>3.24</td>\n",
       "    </tr>\n",
       "    <tr>\n",
       "      <th>3</th>\n",
       "      <td>0.0</td>\n",
       "      <td>3.49</td>\n",
       "    </tr>\n",
       "    <tr>\n",
       "      <th>4</th>\n",
       "      <td>0.0</td>\n",
       "      <td>2.69</td>\n",
       "    </tr>\n",
       "    <tr>\n",
       "      <th>...</th>\n",
       "      <td>...</td>\n",
       "      <td>...</td>\n",
       "    </tr>\n",
       "    <tr>\n",
       "      <th>125</th>\n",
       "      <td>1.0</td>\n",
       "      <td>2.65</td>\n",
       "    </tr>\n",
       "    <tr>\n",
       "      <th>126</th>\n",
       "      <td>1.0</td>\n",
       "      <td>3.15</td>\n",
       "    </tr>\n",
       "    <tr>\n",
       "      <th>127</th>\n",
       "      <td>1.0</td>\n",
       "      <td>2.24</td>\n",
       "    </tr>\n",
       "    <tr>\n",
       "      <th>128</th>\n",
       "      <td>1.0</td>\n",
       "      <td>2.45</td>\n",
       "    </tr>\n",
       "    <tr>\n",
       "      <th>129</th>\n",
       "      <td>1.0</td>\n",
       "      <td>1.75</td>\n",
       "    </tr>\n",
       "  </tbody>\n",
       "</table>\n",
       "<p>130 rows × 2 columns</p>\n",
       "</div>"
      ],
      "text/plain": [
       "       0     1\n",
       "0    0.0  3.06\n",
       "1    0.0  2.76\n",
       "2    0.0  3.24\n",
       "3    0.0  3.49\n",
       "4    0.0  2.69\n",
       "..   ...   ...\n",
       "125  1.0  2.65\n",
       "126  1.0  3.15\n",
       "127  1.0  2.24\n",
       "128  1.0  2.45\n",
       "129  1.0  1.75\n",
       "\n",
       "[130 rows x 2 columns]"
      ]
     },
     "execution_count": 9,
     "metadata": {},
     "output_type": "execute_result"
    }
   ],
   "source": [
    "tz"
   ]
  },
  {
   "cell_type": "code",
   "execution_count": 10,
   "id": "9ae2f708",
   "metadata": {},
   "outputs": [],
   "source": [
    "y = np.array(tz[0])"
   ]
  },
  {
   "cell_type": "code",
   "execution_count": 11,
   "id": "63a2210a",
   "metadata": {},
   "outputs": [],
   "source": [
    "X = np.array(tz[1])"
   ]
  },
  {
   "cell_type": "code",
   "execution_count": 12,
   "id": "3c324d66",
   "metadata": {},
   "outputs": [
    {
     "data": {
      "text/plain": [
       "array([3.06, 2.76, 3.24, 3.49, 2.69, 3.39, 2.52, 2.51, 2.98, 3.15, 3.32,\n",
       "       2.43, 2.76, 3.69, 3.64, 2.91, 3.14, 3.4 , 3.93, 3.03, 3.17, 2.41,\n",
       "       2.88, 2.37, 2.61, 2.68, 2.94, 2.19, 2.97, 2.33, 3.25, 3.19, 2.69,\n",
       "       2.74, 2.53, 2.98, 2.68, 2.43, 2.64, 3.04, 3.29, 2.68, 3.56, 2.63,\n",
       "       3.  , 2.65, 3.17, 3.39, 2.92, 3.54, 3.27, 2.99, 3.74, 2.79, 2.9 ,\n",
       "       2.78, 3.  , 3.23, 3.67, 0.57, 1.09, 1.41, 1.79, 3.1 , 1.75, 2.65,\n",
       "       3.18, 2.  , 1.3 , 1.28, 1.02, 2.86, 1.84, 2.89, 2.14, 1.57, 2.03,\n",
       "       1.32, 1.85, 2.55, 2.26, 2.53, 1.58, 1.59, 2.21, 1.94, 1.69, 1.61,\n",
       "       1.69, 1.59, 1.5 , 1.25, 1.46, 2.25, 2.26, 2.27, 0.99, 2.5 , 3.75,\n",
       "       2.99, 2.17, 1.36, 2.11, 1.64, 1.92, 1.84, 2.03, 1.76, 2.04, 2.92,\n",
       "       2.58, 2.27, 2.03, 2.01, 2.29, 2.17, 1.6 , 2.09, 1.25, 1.64, 2.79,\n",
       "       5.08, 2.13, 2.65, 3.03, 2.65, 3.15, 2.24, 2.45, 1.75])"
      ]
     },
     "execution_count": 12,
     "metadata": {},
     "output_type": "execute_result"
    }
   ],
   "source": [
    "X"
   ]
  },
  {
   "cell_type": "code",
   "execution_count": 13,
   "id": "6d8798f0",
   "metadata": {},
   "outputs": [
    {
     "data": {
      "text/plain": [
       "numpy.ndarray"
      ]
     },
     "execution_count": 13,
     "metadata": {},
     "output_type": "execute_result"
    }
   ],
   "source": [
    "type(X)"
   ]
  },
  {
   "cell_type": "code",
   "execution_count": 14,
   "id": "6899bf0c",
   "metadata": {},
   "outputs": [
    {
     "data": {
      "text/plain": [
       "(130,)"
      ]
     },
     "execution_count": 14,
     "metadata": {},
     "output_type": "execute_result"
    }
   ],
   "source": [
    "X.shape"
   ]
  },
  {
   "cell_type": "code",
   "execution_count": 15,
   "id": "068b6452",
   "metadata": {},
   "outputs": [
    {
     "data": {
      "text/plain": [
       "(130,)"
      ]
     },
     "execution_count": 15,
     "metadata": {},
     "output_type": "execute_result"
    }
   ],
   "source": [
    "y.shape"
   ]
  },
  {
   "cell_type": "code",
   "execution_count": 16,
   "id": "62ead0f4",
   "metadata": {},
   "outputs": [
    {
     "data": {
      "text/plain": [
       "array([0., 0., 0., 0., 0., 0., 0., 0., 0., 0., 0., 0., 0., 0., 0., 0., 0.,\n",
       "       0., 0., 0., 0., 0., 0., 0., 0., 0., 0., 0., 0., 0., 0., 0., 0., 0.,\n",
       "       0., 0., 0., 0., 0., 0., 0., 0., 0., 0., 0., 0., 0., 0., 0., 0., 0.,\n",
       "       0., 0., 0., 0., 0., 0., 0., 0., 1., 1., 1., 1., 1., 1., 1., 1., 1.,\n",
       "       1., 1., 1., 1., 1., 1., 1., 1., 1., 1., 1., 1., 1., 1., 1., 1., 1.,\n",
       "       1., 1., 1., 1., 1., 1., 1., 1., 1., 1., 1., 1., 1., 1., 1., 1., 1.,\n",
       "       1., 1., 1., 1., 1., 1., 1., 1., 1., 1., 1., 1., 1., 1., 1., 1., 1.,\n",
       "       1., 1., 1., 1., 1., 1., 1., 1., 1., 1., 1.])"
      ]
     },
     "execution_count": 16,
     "metadata": {},
     "output_type": "execute_result"
    }
   ],
   "source": [
    "y"
   ]
  },
  {
   "cell_type": "code",
   "execution_count": 19,
   "id": "2374019d",
   "metadata": {},
   "outputs": [
    {
     "name": "stdout",
     "output_type": "stream",
     "text": [
      " m and c values are   -0.33726366838359234 0.8885819845836133\n",
      " Accuracy is   0.8076923076923077\n"
     ]
    }
   ],
   "source": [
    "\n",
    "\n",
    "\n",
    "n =len(y)\n",
    "m = 0 \n",
    "c = 0\n",
    "LR = 0.001  # The learning Rate\n",
    "epochs = 100 # no. of iterations for optimization\n",
    "accuracy = 0 \n",
    "# Define sigmoid function\n",
    "def sigmoid(z):\n",
    " sig = 1/(1+np.exp(-z))\n",
    " return sig\n",
    "\n",
    "# Performing Gradient Descent Optimization\n",
    "# for every epoch\n",
    "\n",
    "for epoch in range(1,epochs+1):\n",
    "    for i in range(len(X)):\n",
    "        #compute gradient w.r.t 'm' \n",
    "        gr_wrt_m = X[i] * (sigmoid((m * X[i]) + c) - y[i])\n",
    "        \n",
    "        #compute gradient w.r.t 'c'\n",
    "        gr_wrt_c = sigmoid((m * X[i]) + c) - y[i]\n",
    "        #update m, c\n",
    "        m = m - LR * gr_wrt_m\n",
    "        c = c - LR * gr_wrt_c\n",
    "# At the end of all epochs we will be having optimum values of 'm' and 'c'\n",
    "# So by using those optimum values of 'm' and 'c' we can perform predictions\n",
    "\n",
    "print(\" m and c values are  \",  m , c)\n",
    "\n",
    "predictions = []\n",
    "ylist = []\n",
    "\n",
    "for i in range(len(X)):\n",
    "    z = (m * X[i]) + c\n",
    "    y_pred = sigmoid(z)\n",
    "    if y_pred>=0.5:\n",
    "        predictions.append(1)\n",
    "    else:\n",
    "        predictions.append(0)\n",
    "\n",
    "# 'predictions' list will contain all the predicted class labels using optimum 'm' and 'c'\n",
    "\n",
    "for k in range(len(X)):\n",
    "    if ( predictions[k] ==  int(y[k]) ):\n",
    "        accuracy = accuracy + 1\n",
    "    else:\n",
    "        continue\n",
    "print(\" Accuracy is  \", accuracy/n)\n",
    "\n",
    "\n"
   ]
  },
  {
   "cell_type": "code",
   "execution_count": 20,
   "id": "46d83bcd",
   "metadata": {},
   "outputs": [
    {
     "name": "stdout",
     "output_type": "stream",
     "text": [
      "0.8153846153846154\n"
     ]
    }
   ],
   "source": [
    "from sklearn.metrics import accuracy_score\n",
    "from sklearn.linear_model import LogisticRegression \n",
    "\n",
    "X1 = X.reshape(-1,1)\n",
    "\n",
    "model = LogisticRegression(solver='newton-cg', max_iter=10)\n",
    "model.fit(X1, y)\n",
    "pred = model.predict(X1)\n",
    "accuracy = accuracy_score(y, pred)\n",
    "print(accuracy)"
   ]
  },
  {
   "cell_type": "code",
   "execution_count": 21,
   "id": "778ab519",
   "metadata": {},
   "outputs": [
    {
     "data": {
      "text/plain": [
       "array([0., 0., 0., 0., 0., 0., 1., 1., 0., 0., 0., 1., 0., 0., 0., 0., 0.,\n",
       "       0., 0., 0., 0., 1., 0., 1., 1., 0., 0., 1., 0., 1., 0., 0., 0., 0.,\n",
       "       1., 0., 0., 1., 0., 0., 0., 0., 0., 0., 0., 0., 0., 0., 0., 0., 0.,\n",
       "       0., 0., 0., 0., 0., 0., 0., 0., 1., 1., 1., 1., 0., 1., 0., 0., 1.,\n",
       "       1., 1., 1., 0., 1., 0., 1., 1., 1., 1., 1., 1., 1., 1., 1., 1., 1.,\n",
       "       1., 1., 1., 1., 1., 1., 1., 1., 1., 1., 1., 1., 1., 0., 0., 1., 1.,\n",
       "       1., 1., 1., 1., 1., 1., 1., 0., 1., 1., 1., 1., 1., 1., 1., 1., 1.,\n",
       "       1., 0., 0., 1., 0., 0., 0., 0., 1., 1., 1.])"
      ]
     },
     "execution_count": 21,
     "metadata": {},
     "output_type": "execute_result"
    }
   ],
   "source": [
    "pred"
   ]
  },
  {
   "cell_type": "code",
   "execution_count": 22,
   "id": "12ebcd43",
   "metadata": {},
   "outputs": [
    {
     "name": "stdout",
     "output_type": "stream",
     "text": [
      "[[-2.30630719]] [6.053263]\n"
     ]
    }
   ],
   "source": [
    "print(model.coef_ , model.intercept_)"
   ]
  },
  {
   "cell_type": "code",
   "execution_count": 23,
   "id": "4c8f9bcf",
   "metadata": {},
   "outputs": [
    {
     "data": {
      "text/plain": [
       "array([[0.73185156, 0.26814844],\n",
       "       [0.57740871, 0.42259129],\n",
       "       [0.80520863, 0.19479137],\n",
       "       [0.88035004, 0.11964996],\n",
       "       [0.53760469, 0.46239531],\n",
       "       [0.85384954, 0.14615046],\n",
       "       [0.43994904, 0.56005096],\n",
       "       [0.43427455, 0.56572545],\n",
       "       [0.69413708, 0.30586292],\n",
       "       [0.77058275, 0.22941725],\n",
       "       [0.83253165, 0.16746835],\n",
       "       [0.38961364, 0.61038636],\n",
       "       [0.57740871, 0.42259129],\n",
       "       [0.92107261, 0.07892739],\n",
       "       [0.91227185, 0.08772815],\n",
       "       [0.65883141, 0.34116859],\n",
       "       [0.76648012, 0.23351988],\n",
       "       [0.85670417, 0.14329583],\n",
       "       [0.95304732, 0.04695268],\n",
       "       [0.71805776, 0.28194224],\n",
       "       [0.77863523, 0.22136477],\n",
       "       [0.37870166, 0.62129834],\n",
       "       [0.64311311, 0.35688689],\n",
       "       [0.35725116, 0.64274884],\n",
       "       [0.4915505 , 0.5084495 ],\n",
       "       [0.53186681, 0.46813319],\n",
       "       [0.67420813, 0.32579187],\n",
       "       [0.26845994, 0.73154006],\n",
       "       [0.68921873, 0.31078127],\n",
       "       [0.33635789, 0.66364211],\n",
       "       [0.80880057, 0.19119943],\n",
       "       [0.78648338, 0.21351662],\n",
       "       [0.53760469, 0.46239531],\n",
       "       [0.56611524, 0.43388476],\n",
       "       [0.44563927, 0.55436073],\n",
       "       [0.69413708, 0.30586292],\n",
       "       [0.53186681, 0.46813319],\n",
       "       [0.38961364, 0.61038636],\n",
       "       [0.50884607, 0.49115393],\n",
       "       [0.72270333, 0.27729667],\n",
       "       [0.82266196, 0.17733804],\n",
       "       [0.53186681, 0.46813319],\n",
       "       [0.8963388 , 0.1036612 ],\n",
       "       [0.50308119, 0.49691881],\n",
       "       [0.70384153, 0.29615847],\n",
       "       [0.5146086 , 0.4853914 ],\n",
       "       [0.77863523, 0.22136477],\n",
       "       [0.85384954, 0.14615046],\n",
       "       [0.66399621, 0.33600379],\n",
       "       [0.89197394, 0.10802606],\n",
       "       [0.81583222, 0.18416778],\n",
       "       [0.69901158, 0.30098842],\n",
       "       [0.92905914, 0.07094086],\n",
       "       [0.59419482, 0.40580518],\n",
       "       [0.65362864, 0.34637136],\n",
       "       [0.58862182, 0.41137818],\n",
       "       [0.70384153, 0.29615847],\n",
       "       [0.80156575, 0.19843425],\n",
       "       [0.91765354, 0.08234646],\n",
       "       [0.00867439, 0.99132561],\n",
       "       [0.02821206, 0.97178794],\n",
       "       [0.0572502 , 0.9427498 ],\n",
       "       [0.12730802, 0.87269198],\n",
       "       [0.74956418, 0.25043582],\n",
       "       [0.11740619, 0.88259381],\n",
       "       [0.5146086 , 0.4853914 ],\n",
       "       [0.78258488, 0.21741512],\n",
       "       [0.19144493, 0.80855507],\n",
       "       [0.04499936, 0.95500064],\n",
       "       [0.0430582 , 0.9569418 ],\n",
       "       [0.02410749, 0.97589251],\n",
       "       [0.63245785, 0.36754215],\n",
       "       [0.14067949, 0.85932051],\n",
       "       [0.64838886, 0.35161114],\n",
       "       [0.24642597, 0.75357403],\n",
       "       [0.08073808, 0.91926192],\n",
       "       [0.20238416, 0.79761584],\n",
       "       [0.04702374, 0.95297626],\n",
       "       [0.14349073, 0.85650927],\n",
       "       [0.45706111, 0.54293889],\n",
       "       [0.30132237, 0.69867763],\n",
       "       [0.44563927, 0.55436073],\n",
       "       [0.08246645, 0.91753355],\n",
       "       [0.08422842, 0.91577158],\n",
       "       [0.27761477, 0.72238523],\n",
       "       [0.17093332, 0.82906668],\n",
       "       [0.10380872, 0.89619128],\n",
       "       [0.08785523, 0.91214477],\n",
       "       [0.10380872, 0.89619128],\n",
       "       [0.08422842, 0.91577158],\n",
       "       [0.06953837, 0.93046163],\n",
       "       [0.04029576, 0.95970424],\n",
       "       [0.06380128, 0.93619872],\n",
       "       [0.29648933, 0.70351067],\n",
       "       [0.30132237, 0.69867763],\n",
       "       [0.30619991, 0.69380009],\n",
       "       [0.02253222, 0.97746778],\n",
       "       [0.42861724, 0.57138276],\n",
       "       [0.93056423, 0.06943577],\n",
       "       [0.69901158, 0.30098842],\n",
       "       [0.25949856, 0.74050144],\n",
       "       [0.05133489, 0.94866511],\n",
       "       [0.233804  , 0.766196  ],\n",
       "       [0.09356023, 0.90643977],\n",
       "       [0.16449541, 0.83550459],\n",
       "       [0.14067949, 0.85932051],\n",
       "       [0.20238416, 0.79761584],\n",
       "       [0.1198172 , 0.8801828 ],\n",
       "       [0.20613268, 0.79386732],\n",
       "       [0.66399621, 0.33600379],\n",
       "       [0.47427512, 0.52572488],\n",
       "       [0.30619991, 0.69380009],\n",
       "       [0.20238416, 0.79761584],\n",
       "       [0.19504037, 0.80495963],\n",
       "       [0.31608564, 0.68391436],\n",
       "       [0.25949856, 0.74050144],\n",
       "       [0.08602451, 0.91397549],\n",
       "       [0.22564264, 0.77435736],\n",
       "       [0.04029576, 0.95970424],\n",
       "       [0.09356023, 0.90643977],\n",
       "       [0.59419482, 0.40580518],\n",
       "       [0.99653916, 0.00346084],\n",
       "       [0.24216825, 0.75783175],\n",
       "       [0.5146086 , 0.4853914 ],\n",
       "       [0.71805776, 0.28194224],\n",
       "       [0.5146086 , 0.4853914 ],\n",
       "       [0.77058275, 0.22941725],\n",
       "       [0.29170144, 0.70829856],\n",
       "       [0.4006373 , 0.5993627 ],\n",
       "       [0.11740619, 0.88259381]])"
      ]
     },
     "execution_count": 23,
     "metadata": {},
     "output_type": "execute_result"
    }
   ],
   "source": [
    "model.predict_proba(X1)"
   ]
  },
  {
   "cell_type": "code",
   "execution_count": 24,
   "id": "544dcfb0",
   "metadata": {},
   "outputs": [],
   "source": [
    "\n",
    "  \n",
    "# creating the dataframe\n",
    "df = pd.DataFrame(\n",
    "    {\n",
    "     'orginally y': y,\n",
    "      'our prediction ': predictions,\n",
    "     'sklearn prediction' : pred\n",
    "    })\n",
    "\n"
   ]
  },
  {
   "cell_type": "code",
   "execution_count": 25,
   "id": "3c8fbecf",
   "metadata": {},
   "outputs": [],
   "source": [
    "df['new'] = np.where((df['our prediction '] == df['sklearn prediction']) , \"Matched\", \"Not Matched\")\n"
   ]
  },
  {
   "cell_type": "code",
   "execution_count": 26,
   "id": "8d07b2b4",
   "metadata": {},
   "outputs": [
    {
     "name": "stdout",
     "output_type": "stream",
     "text": [
      "     orginally y  our prediction   sklearn prediction          new\n",
      "0            0.0                0                 0.0      Matched\n",
      "1            0.0                0                 0.0      Matched\n",
      "2            0.0                0                 0.0      Matched\n",
      "3            0.0                0                 0.0      Matched\n",
      "4            0.0                0                 0.0      Matched\n",
      "5            0.0                0                 0.0      Matched\n",
      "6            0.0                1                 1.0      Matched\n",
      "7            0.0                1                 1.0      Matched\n",
      "8            0.0                0                 0.0      Matched\n",
      "9            0.0                0                 0.0      Matched\n",
      "10           0.0                0                 0.0      Matched\n",
      "11           0.0                1                 1.0      Matched\n",
      "12           0.0                0                 0.0      Matched\n",
      "13           0.0                0                 0.0      Matched\n",
      "14           0.0                0                 0.0      Matched\n",
      "15           0.0                0                 0.0      Matched\n",
      "16           0.0                0                 0.0      Matched\n",
      "17           0.0                0                 0.0      Matched\n",
      "18           0.0                0                 0.0      Matched\n",
      "19           0.0                0                 0.0      Matched\n",
      "20           0.0                0                 0.0      Matched\n",
      "21           0.0                1                 1.0      Matched\n",
      "22           0.0                0                 0.0      Matched\n",
      "23           0.0                1                 1.0      Matched\n",
      "24           0.0                1                 1.0      Matched\n",
      "25           0.0                0                 0.0      Matched\n",
      "26           0.0                0                 0.0      Matched\n",
      "27           0.0                1                 1.0      Matched\n",
      "28           0.0                0                 0.0      Matched\n",
      "29           0.0                1                 1.0      Matched\n",
      "30           0.0                0                 0.0      Matched\n",
      "31           0.0                0                 0.0      Matched\n",
      "32           0.0                0                 0.0      Matched\n",
      "33           0.0                0                 0.0      Matched\n",
      "34           0.0                1                 1.0      Matched\n",
      "35           0.0                0                 0.0      Matched\n",
      "36           0.0                0                 0.0      Matched\n",
      "37           0.0                1                 1.0      Matched\n",
      "38           0.0                0                 0.0      Matched\n",
      "39           0.0                0                 0.0      Matched\n",
      "40           0.0                0                 0.0      Matched\n",
      "41           0.0                0                 0.0      Matched\n",
      "42           0.0                0                 0.0      Matched\n",
      "43           0.0                1                 0.0  Not Matched\n",
      "44           0.0                0                 0.0      Matched\n",
      "45           0.0                0                 0.0      Matched\n",
      "46           0.0                0                 0.0      Matched\n",
      "47           0.0                0                 0.0      Matched\n",
      "48           0.0                0                 0.0      Matched\n",
      "49           0.0                0                 0.0      Matched\n",
      "50           0.0                0                 0.0      Matched\n",
      "51           0.0                0                 0.0      Matched\n",
      "52           0.0                0                 0.0      Matched\n",
      "53           0.0                0                 0.0      Matched\n",
      "54           0.0                0                 0.0      Matched\n",
      "55           0.0                0                 0.0      Matched\n",
      "56           0.0                0                 0.0      Matched\n",
      "57           0.0                0                 0.0      Matched\n",
      "58           0.0                0                 0.0      Matched\n",
      "59           1.0                1                 1.0      Matched\n",
      "60           1.0                1                 1.0      Matched\n",
      "61           1.0                1                 1.0      Matched\n",
      "62           1.0                1                 1.0      Matched\n",
      "63           1.0                0                 0.0      Matched\n",
      "64           1.0                1                 1.0      Matched\n",
      "65           1.0                0                 0.0      Matched\n",
      "66           1.0                0                 0.0      Matched\n",
      "67           1.0                1                 1.0      Matched\n",
      "68           1.0                1                 1.0      Matched\n",
      "69           1.0                1                 1.0      Matched\n",
      "70           1.0                1                 1.0      Matched\n",
      "71           1.0                0                 0.0      Matched\n",
      "72           1.0                1                 1.0      Matched\n",
      "73           1.0                0                 0.0      Matched\n",
      "74           1.0                1                 1.0      Matched\n",
      "75           1.0                1                 1.0      Matched\n",
      "76           1.0                1                 1.0      Matched\n",
      "77           1.0                1                 1.0      Matched\n",
      "78           1.0                1                 1.0      Matched\n",
      "79           1.0                1                 1.0      Matched\n",
      "80           1.0                1                 1.0      Matched\n",
      "81           1.0                1                 1.0      Matched\n",
      "82           1.0                1                 1.0      Matched\n",
      "83           1.0                1                 1.0      Matched\n",
      "84           1.0                1                 1.0      Matched\n",
      "85           1.0                1                 1.0      Matched\n",
      "86           1.0                1                 1.0      Matched\n",
      "87           1.0                1                 1.0      Matched\n",
      "88           1.0                1                 1.0      Matched\n",
      "89           1.0                1                 1.0      Matched\n",
      "90           1.0                1                 1.0      Matched\n",
      "91           1.0                1                 1.0      Matched\n",
      "92           1.0                1                 1.0      Matched\n",
      "93           1.0                1                 1.0      Matched\n",
      "94           1.0                1                 1.0      Matched\n",
      "95           1.0                1                 1.0      Matched\n",
      "96           1.0                1                 1.0      Matched\n",
      "97           1.0                1                 1.0      Matched\n",
      "98           1.0                0                 0.0      Matched\n",
      "99           1.0                0                 0.0      Matched\n",
      "100          1.0                1                 1.0      Matched\n",
      "101          1.0                1                 1.0      Matched\n",
      "102          1.0                1                 1.0      Matched\n",
      "103          1.0                1                 1.0      Matched\n",
      "104          1.0                1                 1.0      Matched\n",
      "105          1.0                1                 1.0      Matched\n",
      "106          1.0                1                 1.0      Matched\n",
      "107          1.0                1                 1.0      Matched\n",
      "108          1.0                1                 1.0      Matched\n",
      "109          1.0                0                 0.0      Matched\n",
      "110          1.0                1                 1.0      Matched\n",
      "111          1.0                1                 1.0      Matched\n",
      "112          1.0                1                 1.0      Matched\n",
      "113          1.0                1                 1.0      Matched\n",
      "114          1.0                1                 1.0      Matched\n",
      "115          1.0                1                 1.0      Matched\n",
      "116          1.0                1                 1.0      Matched\n",
      "117          1.0                1                 1.0      Matched\n",
      "118          1.0                1                 1.0      Matched\n",
      "119          1.0                1                 1.0      Matched\n",
      "120          1.0                0                 0.0      Matched\n",
      "121          1.0                0                 0.0      Matched\n",
      "122          1.0                1                 1.0      Matched\n",
      "123          1.0                0                 0.0      Matched\n",
      "124          1.0                0                 0.0      Matched\n",
      "125          1.0                0                 0.0      Matched\n",
      "126          1.0                0                 0.0      Matched\n",
      "127          1.0                1                 1.0      Matched\n",
      "128          1.0                1                 1.0      Matched\n",
      "129          1.0                1                 1.0      Matched\n"
     ]
    }
   ],
   "source": [
    "with pd.option_context('display.max_rows', None,\n",
    "                       'display.max_columns', None,\n",
    "                       'display.precision', 3,\n",
    "                       ):\n",
    "    print(df)\n",
    "    "
   ]
  },
  {
   "cell_type": "code",
   "execution_count": null,
   "id": "604e5a58",
   "metadata": {},
   "outputs": [],
   "source": []
  },
  {
   "cell_type": "code",
   "execution_count": null,
   "id": "1594acf4",
   "metadata": {},
   "outputs": [],
   "source": []
  },
  {
   "cell_type": "code",
   "execution_count": null,
   "id": "b51acce5",
   "metadata": {},
   "outputs": [],
   "source": []
  },
  {
   "cell_type": "code",
   "execution_count": null,
   "id": "224cda59",
   "metadata": {},
   "outputs": [],
   "source": []
  }
 ],
 "metadata": {
  "kernelspec": {
   "display_name": "Python 3 (ipykernel)",
   "language": "python",
   "name": "python3"
  },
  "language_info": {
   "codemirror_mode": {
    "name": "ipython",
    "version": 3
   },
   "file_extension": ".py",
   "mimetype": "text/x-python",
   "name": "python",
   "nbconvert_exporter": "python",
   "pygments_lexer": "ipython3",
   "version": "3.9.13"
  }
 },
 "nbformat": 4,
 "nbformat_minor": 5
}
