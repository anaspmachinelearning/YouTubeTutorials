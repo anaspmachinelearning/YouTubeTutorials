{
 "cells": [
  {
   "cell_type": "code",
   "execution_count": 23,
   "id": "b88e6d33",
   "metadata": {},
   "outputs": [
    {
     "name": "stdout",
     "output_type": "stream",
     "text": [
      "1.2.2\n"
     ]
    }
   ],
   "source": [
    "\n",
    "# check scikit-learn version\n",
    "import sklearn\n",
    "print(sklearn.__version__)"
   ]
  },
  {
   "cell_type": "markdown",
   "id": "9a916791",
   "metadata": {},
   "source": [
    "## Bagging - Classifier Example !"
   ]
  },
  {
   "cell_type": "code",
   "execution_count": 2,
   "id": "83f9c7d1",
   "metadata": {},
   "outputs": [],
   "source": [
    "import pandas as pd\n",
    "\n",
    "url=\"https://raw.githubusercontent.com/npradaschnor/Pima-Indians-Diabetes-Dataset/master/diabetes.csv\"\n",
    "df=pd.read_csv(url)\n"
   ]
  },
  {
   "cell_type": "code",
   "execution_count": 3,
   "id": "d5c5366f",
   "metadata": {},
   "outputs": [
    {
     "data": {
      "text/html": [
       "<div>\n",
       "<style scoped>\n",
       "    .dataframe tbody tr th:only-of-type {\n",
       "        vertical-align: middle;\n",
       "    }\n",
       "\n",
       "    .dataframe tbody tr th {\n",
       "        vertical-align: top;\n",
       "    }\n",
       "\n",
       "    .dataframe thead th {\n",
       "        text-align: right;\n",
       "    }\n",
       "</style>\n",
       "<table border=\"1\" class=\"dataframe\">\n",
       "  <thead>\n",
       "    <tr style=\"text-align: right;\">\n",
       "      <th></th>\n",
       "      <th>Pregnancies</th>\n",
       "      <th>Glucose</th>\n",
       "      <th>BloodPressure</th>\n",
       "      <th>SkinThickness</th>\n",
       "      <th>Insulin</th>\n",
       "      <th>BMI</th>\n",
       "      <th>DiabetesPedigreeFunction</th>\n",
       "      <th>Age</th>\n",
       "      <th>Outcome</th>\n",
       "    </tr>\n",
       "  </thead>\n",
       "  <tbody>\n",
       "    <tr>\n",
       "      <th>0</th>\n",
       "      <td>6</td>\n",
       "      <td>148</td>\n",
       "      <td>72</td>\n",
       "      <td>35</td>\n",
       "      <td>0</td>\n",
       "      <td>33.6</td>\n",
       "      <td>0.627</td>\n",
       "      <td>50</td>\n",
       "      <td>1</td>\n",
       "    </tr>\n",
       "    <tr>\n",
       "      <th>1</th>\n",
       "      <td>1</td>\n",
       "      <td>85</td>\n",
       "      <td>66</td>\n",
       "      <td>29</td>\n",
       "      <td>0</td>\n",
       "      <td>26.6</td>\n",
       "      <td>0.351</td>\n",
       "      <td>31</td>\n",
       "      <td>0</td>\n",
       "    </tr>\n",
       "    <tr>\n",
       "      <th>2</th>\n",
       "      <td>8</td>\n",
       "      <td>183</td>\n",
       "      <td>64</td>\n",
       "      <td>0</td>\n",
       "      <td>0</td>\n",
       "      <td>23.3</td>\n",
       "      <td>0.672</td>\n",
       "      <td>32</td>\n",
       "      <td>1</td>\n",
       "    </tr>\n",
       "    <tr>\n",
       "      <th>3</th>\n",
       "      <td>1</td>\n",
       "      <td>89</td>\n",
       "      <td>66</td>\n",
       "      <td>23</td>\n",
       "      <td>94</td>\n",
       "      <td>28.1</td>\n",
       "      <td>0.167</td>\n",
       "      <td>21</td>\n",
       "      <td>0</td>\n",
       "    </tr>\n",
       "    <tr>\n",
       "      <th>4</th>\n",
       "      <td>0</td>\n",
       "      <td>137</td>\n",
       "      <td>40</td>\n",
       "      <td>35</td>\n",
       "      <td>168</td>\n",
       "      <td>43.1</td>\n",
       "      <td>2.288</td>\n",
       "      <td>33</td>\n",
       "      <td>1</td>\n",
       "    </tr>\n",
       "  </tbody>\n",
       "</table>\n",
       "</div>"
      ],
      "text/plain": [
       "   Pregnancies  Glucose  BloodPressure  SkinThickness  Insulin   BMI  \\\n",
       "0            6      148             72             35        0  33.6   \n",
       "1            1       85             66             29        0  26.6   \n",
       "2            8      183             64              0        0  23.3   \n",
       "3            1       89             66             23       94  28.1   \n",
       "4            0      137             40             35      168  43.1   \n",
       "\n",
       "   DiabetesPedigreeFunction  Age  Outcome  \n",
       "0                     0.627   50        1  \n",
       "1                     0.351   31        0  \n",
       "2                     0.672   32        1  \n",
       "3                     0.167   21        0  \n",
       "4                     2.288   33        1  "
      ]
     },
     "execution_count": 3,
     "metadata": {},
     "output_type": "execute_result"
    }
   ],
   "source": [
    "df.head()"
   ]
  },
  {
   "cell_type": "code",
   "execution_count": 4,
   "id": "7ae33d2e",
   "metadata": {},
   "outputs": [],
   "source": [
    "# Separate X and y\n",
    "\n",
    "X = df.iloc[:,:8]\n",
    "y = df.iloc[:,8]"
   ]
  },
  {
   "cell_type": "code",
   "execution_count": 5,
   "id": "b03ea8b2",
   "metadata": {},
   "outputs": [
    {
     "data": {
      "text/html": [
       "<div>\n",
       "<style scoped>\n",
       "    .dataframe tbody tr th:only-of-type {\n",
       "        vertical-align: middle;\n",
       "    }\n",
       "\n",
       "    .dataframe tbody tr th {\n",
       "        vertical-align: top;\n",
       "    }\n",
       "\n",
       "    .dataframe thead th {\n",
       "        text-align: right;\n",
       "    }\n",
       "</style>\n",
       "<table border=\"1\" class=\"dataframe\">\n",
       "  <thead>\n",
       "    <tr style=\"text-align: right;\">\n",
       "      <th></th>\n",
       "      <th>Pregnancies</th>\n",
       "      <th>Glucose</th>\n",
       "      <th>BloodPressure</th>\n",
       "      <th>SkinThickness</th>\n",
       "      <th>Insulin</th>\n",
       "      <th>BMI</th>\n",
       "      <th>DiabetesPedigreeFunction</th>\n",
       "      <th>Age</th>\n",
       "    </tr>\n",
       "  </thead>\n",
       "  <tbody>\n",
       "    <tr>\n",
       "      <th>0</th>\n",
       "      <td>6</td>\n",
       "      <td>148</td>\n",
       "      <td>72</td>\n",
       "      <td>35</td>\n",
       "      <td>0</td>\n",
       "      <td>33.6</td>\n",
       "      <td>0.627</td>\n",
       "      <td>50</td>\n",
       "    </tr>\n",
       "    <tr>\n",
       "      <th>1</th>\n",
       "      <td>1</td>\n",
       "      <td>85</td>\n",
       "      <td>66</td>\n",
       "      <td>29</td>\n",
       "      <td>0</td>\n",
       "      <td>26.6</td>\n",
       "      <td>0.351</td>\n",
       "      <td>31</td>\n",
       "    </tr>\n",
       "    <tr>\n",
       "      <th>2</th>\n",
       "      <td>8</td>\n",
       "      <td>183</td>\n",
       "      <td>64</td>\n",
       "      <td>0</td>\n",
       "      <td>0</td>\n",
       "      <td>23.3</td>\n",
       "      <td>0.672</td>\n",
       "      <td>32</td>\n",
       "    </tr>\n",
       "    <tr>\n",
       "      <th>3</th>\n",
       "      <td>1</td>\n",
       "      <td>89</td>\n",
       "      <td>66</td>\n",
       "      <td>23</td>\n",
       "      <td>94</td>\n",
       "      <td>28.1</td>\n",
       "      <td>0.167</td>\n",
       "      <td>21</td>\n",
       "    </tr>\n",
       "    <tr>\n",
       "      <th>4</th>\n",
       "      <td>0</td>\n",
       "      <td>137</td>\n",
       "      <td>40</td>\n",
       "      <td>35</td>\n",
       "      <td>168</td>\n",
       "      <td>43.1</td>\n",
       "      <td>2.288</td>\n",
       "      <td>33</td>\n",
       "    </tr>\n",
       "  </tbody>\n",
       "</table>\n",
       "</div>"
      ],
      "text/plain": [
       "   Pregnancies  Glucose  BloodPressure  SkinThickness  Insulin   BMI  \\\n",
       "0            6      148             72             35        0  33.6   \n",
       "1            1       85             66             29        0  26.6   \n",
       "2            8      183             64              0        0  23.3   \n",
       "3            1       89             66             23       94  28.1   \n",
       "4            0      137             40             35      168  43.1   \n",
       "\n",
       "   DiabetesPedigreeFunction  Age  \n",
       "0                     0.627   50  \n",
       "1                     0.351   31  \n",
       "2                     0.672   32  \n",
       "3                     0.167   21  \n",
       "4                     2.288   33  "
      ]
     },
     "execution_count": 5,
     "metadata": {},
     "output_type": "execute_result"
    }
   ],
   "source": [
    "X.head()"
   ]
  },
  {
   "cell_type": "code",
   "execution_count": 6,
   "id": "d8e61c1f",
   "metadata": {},
   "outputs": [
    {
     "data": {
      "text/plain": [
       "0    1\n",
       "1    0\n",
       "2    1\n",
       "3    0\n",
       "4    1\n",
       "Name: Outcome, dtype: int64"
      ]
     },
     "execution_count": 6,
     "metadata": {},
     "output_type": "execute_result"
    }
   ],
   "source": [
    "y.head()"
   ]
  },
  {
   "cell_type": "code",
   "execution_count": 7,
   "id": "7f240247",
   "metadata": {},
   "outputs": [
    {
     "data": {
      "text/plain": [
       "(768, 8)"
      ]
     },
     "execution_count": 7,
     "metadata": {},
     "output_type": "execute_result"
    }
   ],
   "source": [
    "X.shape"
   ]
  },
  {
   "cell_type": "code",
   "execution_count": 8,
   "id": "462f8052",
   "metadata": {},
   "outputs": [
    {
     "data": {
      "text/plain": [
       "(768,)"
      ]
     },
     "execution_count": 8,
     "metadata": {},
     "output_type": "execute_result"
    }
   ],
   "source": [
    "y.shape"
   ]
  },
  {
   "cell_type": "code",
   "execution_count": null,
   "id": "28ead336",
   "metadata": {},
   "outputs": [],
   "source": []
  },
  {
   "cell_type": "code",
   "execution_count": null,
   "id": "92fecaab",
   "metadata": {},
   "outputs": [],
   "source": []
  },
  {
   "cell_type": "code",
   "execution_count": null,
   "id": "b3b1e028",
   "metadata": {},
   "outputs": [],
   "source": []
  },
  {
   "cell_type": "code",
   "execution_count": 9,
   "id": "bfaf57d6",
   "metadata": {},
   "outputs": [
    {
     "data": {
      "text/plain": [
       "0.9826388888888888"
      ]
     },
     "execution_count": 9,
     "metadata": {},
     "output_type": "execute_result"
    }
   ],
   "source": [
    "from numpy import mean\n",
    "from numpy import std\n",
    "from sklearn.model_selection import cross_val_score\n",
    "from sklearn.model_selection import RepeatedStratifiedKFold\n",
    "from sklearn.ensemble import BaggingClassifier\n",
    "from sklearn.model_selection import train_test_split\n",
    "from sklearn.metrics import accuracy_score\n",
    "\n",
    "#train - test split\n",
    "X_train, X_test, y_train, y_test = train_test_split(X, y,\n",
    "                                                    stratify=y, \n",
    "                                                    test_size=0.25,random_state=42)\n",
    "\n",
    "# define the model\n",
    "model = BaggingClassifier()\n",
    "\n",
    "#fit the model\n",
    "model.fit(X_train,y_train)\n",
    "\n",
    "#predict on Training set \n",
    "y_predict = model.predict(X_train)\n",
    "\n",
    "\n",
    "#Check the accuracy on training data. Is it overfitting ?\n",
    "accuracy_score(y_train,y_predict)"
   ]
  },
  {
   "cell_type": "code",
   "execution_count": 10,
   "id": "5d07028f",
   "metadata": {},
   "outputs": [
    {
     "name": "stdout",
     "output_type": "stream",
     "text": [
      "[0.74137931 0.72413793 0.74137931 0.70689655 0.77586207 0.75862069\n",
      " 0.78947368 0.71929825 0.75438596 0.80701754]\n",
      "Accuracy:  0.7518451300665456\n"
     ]
    }
   ],
   "source": [
    "#Lets do cross validation and check the accuracy. \n",
    "\n",
    "# evaluate the model\n",
    "n_scores = cross_val_score(model, X_train, y_train, scoring='accuracy', cv=10 )\n",
    "\n",
    "# report performance\n",
    "print(n_scores)\n",
    "print('Accuracy: ' , mean(n_scores))"
   ]
  },
  {
   "cell_type": "code",
   "execution_count": 11,
   "id": "f1910eef",
   "metadata": {},
   "outputs": [
    {
     "data": {
      "text/plain": [
       "0.7291666666666666"
      ]
     },
     "execution_count": 11,
     "metadata": {},
     "output_type": "execute_result"
    }
   ],
   "source": [
    "# Lets run it on test set \n",
    "\n",
    "#predict on test set \n",
    "y_predict_test = model.predict(X_test)\n",
    "\n",
    "\n",
    "#Check the accuracy on test set\n",
    "accuracy_score(y_test,y_predict_test)\n"
   ]
  },
  {
   "cell_type": "markdown",
   "id": "56f43731",
   "metadata": {},
   "source": [
    "###  Let's improve "
   ]
  },
  {
   "cell_type": "code",
   "execution_count": 12,
   "id": "0d9f0e37",
   "metadata": {},
   "outputs": [
    {
     "data": {
      "text/plain": [
       "0.9982638888888888"
      ]
     },
     "execution_count": 12,
     "metadata": {},
     "output_type": "execute_result"
    }
   ],
   "source": [
    "# define the model\n",
    "model = BaggingClassifier(n_estimators=30,oob_score=True)\n",
    "\n",
    "#fit the model\n",
    "model.fit(X_train,y_train)\n",
    "\n",
    "#predict on Training set \n",
    "y_predict = model.predict(X_train)\n",
    "\n",
    "\n",
    "#Check the accuracy on training data. Is it overfitting ?\n",
    "accuracy_score(y_train,y_predict)"
   ]
  },
  {
   "cell_type": "code",
   "execution_count": 13,
   "id": "bd423c29",
   "metadata": {},
   "outputs": [
    {
     "data": {
      "text/plain": [
       "0.7361111111111112"
      ]
     },
     "execution_count": 13,
     "metadata": {},
     "output_type": "execute_result"
    }
   ],
   "source": [
    "model.oob_score_"
   ]
  },
  {
   "cell_type": "code",
   "execution_count": 14,
   "id": "6675a99f",
   "metadata": {},
   "outputs": [
    {
     "name": "stdout",
     "output_type": "stream",
     "text": [
      "[0.77586207 0.62068966 0.77586207 0.77586207 0.77586207 0.72413793\n",
      " 0.78947368 0.80701754 0.77192982 0.71929825]\n",
      "Accuracy:  0.7535995160314579\n"
     ]
    }
   ],
   "source": [
    "#Lets do cross validation and check the accuracy. \n",
    "\n",
    "# evaluate the model\n",
    "n_scores = cross_val_score(model, X_train, y_train, scoring='accuracy', cv=10 )\n",
    "\n",
    "# report performance\n",
    "print(n_scores)\n",
    "print('Accuracy: ' , mean(n_scores))"
   ]
  },
  {
   "cell_type": "code",
   "execution_count": 15,
   "id": "1974843d",
   "metadata": {},
   "outputs": [
    {
     "data": {
      "text/plain": [
       "0.7395833333333334"
      ]
     },
     "execution_count": 15,
     "metadata": {},
     "output_type": "execute_result"
    }
   ],
   "source": [
    "# Lets run it on test set \n",
    "\n",
    "#predict on test set \n",
    "y_predict_test = model.predict(X_test)\n",
    "\n",
    "\n",
    "#Check the accuracy on test data.\n",
    "accuracy_score(y_test,y_predict_test)\n"
   ]
  },
  {
   "cell_type": "code",
   "execution_count": null,
   "id": "2d68de25",
   "metadata": {},
   "outputs": [],
   "source": []
  },
  {
   "cell_type": "code",
   "execution_count": null,
   "id": "a678f330",
   "metadata": {},
   "outputs": [],
   "source": []
  },
  {
   "cell_type": "markdown",
   "id": "575df215",
   "metadata": {},
   "source": [
    "## Explore hyper parameter space !"
   ]
  },
  {
   "cell_type": "code",
   "execution_count": 22,
   "id": "58a3e336",
   "metadata": {},
   "outputs": [
    {
     "name": "stdout",
     "output_type": "stream",
     "text": [
      "Best hyperparameters: {'base_estimator__max_depth': 5, 'base_estimator__min_samples_leaf': 10, 'base_estimator__min_samples_split': 5, 'max_features': 1.0, 'max_samples': 0.5, 'n_estimators': 30}\n",
      "Best score: 0.7830134932533734\n"
     ]
    }
   ],
   "source": [
    "from sklearn.model_selection import GridSearchCV\n",
    "from sklearn.tree import DecisionTreeClassifier\n",
    "\n",
    "# Define base estimator\n",
    "base_estimator = DecisionTreeClassifier()\n",
    "\n",
    "# Define bagging classifier\n",
    "bagging_clf = BaggingClassifier(base_estimator=base_estimator)\n",
    "\n",
    "\n",
    "\n",
    "param_grid = {\n",
    "          \"base_estimator__max_depth\": [3,5,10,20],\n",
    "          \"base_estimator__min_samples_leaf\": [1, 3, 5, 7, 10],\n",
    "          \"base_estimator__min_samples_split\": [2, 5, 7],\n",
    "          'max_features': [0.5, 0.7, 1.0],\n",
    "          'max_samples': [0.5, 0.7, 1.0],\n",
    "          'n_estimators': [2, 5, 10, 20,30,50]\n",
    "}\n",
    "\n",
    "\n",
    "\n",
    "# Perform grid search with cross-validation\n",
    "grid_search = GridSearchCV(bagging_clf, param_grid=param_grid, cv=5)\n",
    "\n",
    "# Fit the grid search to the data\n",
    "grid_search.fit(X_train, y_train)\n",
    "\n",
    "# Print the best hyperparameters\n",
    "print(\"Best hyperparameters:\", grid_search.best_params_)\n",
    "\n",
    "# Print the best score\n",
    "print(\"Best score:\", grid_search.best_score_)\n"
   ]
  },
  {
   "cell_type": "code",
   "execution_count": null,
   "id": "a088ea85",
   "metadata": {},
   "outputs": [],
   "source": []
  },
  {
   "cell_type": "markdown",
   "id": "4012aab1",
   "metadata": {},
   "source": [
    "### For Random Forest, in SKLearn you just need to select Random Forest Classifier - That's it !"
   ]
  },
  {
   "cell_type": "code",
   "execution_count": 17,
   "id": "1e3b2c80",
   "metadata": {},
   "outputs": [
    {
     "data": {
      "text/plain": [
       "1.0"
      ]
     },
     "execution_count": 17,
     "metadata": {},
     "output_type": "execute_result"
    }
   ],
   "source": [
    "from sklearn.ensemble import RandomForestClassifier\n",
    "# define the model\n",
    "model_rf = RandomForestClassifier()\n",
    "\n",
    "#fit the model\n",
    "model_rf.fit(X_train,y_train)\n",
    "\n",
    "#predict on Training set \n",
    "y_predict = model_rf.predict(X_train)\n",
    "\n",
    "\n",
    "#Check the accuracy on training data. Is it overfitting ?\n",
    "accuracy_score(y_train,y_predict)"
   ]
  },
  {
   "cell_type": "code",
   "execution_count": 18,
   "id": "d3790a49",
   "metadata": {},
   "outputs": [
    {
     "name": "stdout",
     "output_type": "stream",
     "text": [
      "[0.79310345 0.68965517 0.75862069 0.70689655 0.79310345 0.75862069\n",
      " 0.8245614  0.77192982 0.78947368 0.73684211]\n",
      "Accuracy:  0.762280701754386\n"
     ]
    }
   ],
   "source": [
    "#Lets do cross validation and check the accuracy. \n",
    "\n",
    "# evaluate the model\n",
    "n_scores = cross_val_score(model_rf, X_train, y_train, scoring='accuracy', cv=10 )\n",
    "\n",
    "# report performance\n",
    "print(n_scores)\n",
    "print('Accuracy: ' , mean(n_scores))"
   ]
  },
  {
   "cell_type": "code",
   "execution_count": 19,
   "id": "84d66800",
   "metadata": {},
   "outputs": [
    {
     "data": {
      "text/plain": [
       "0.7395833333333334"
      ]
     },
     "execution_count": 19,
     "metadata": {},
     "output_type": "execute_result"
    }
   ],
   "source": [
    "# Lets run it on test set \n",
    "\n",
    "#predict on test set \n",
    "y_predict_test = model_rf.predict(X_test)\n",
    "\n",
    "\n",
    "#Check the accuracy on test set\n",
    "accuracy_score(y_test,y_predict_test)"
   ]
  },
  {
   "cell_type": "code",
   "execution_count": null,
   "id": "2e56878c",
   "metadata": {},
   "outputs": [],
   "source": []
  },
  {
   "cell_type": "code",
   "execution_count": null,
   "id": "ca3a4801",
   "metadata": {},
   "outputs": [],
   "source": []
  },
  {
   "cell_type": "code",
   "execution_count": null,
   "id": "e66baa38",
   "metadata": {},
   "outputs": [],
   "source": []
  },
  {
   "cell_type": "code",
   "execution_count": null,
   "id": "69a6baf8",
   "metadata": {},
   "outputs": [],
   "source": []
  },
  {
   "cell_type": "code",
   "execution_count": null,
   "id": "aa588b51",
   "metadata": {},
   "outputs": [],
   "source": []
  },
  {
   "cell_type": "markdown",
   "id": "40e53f87",
   "metadata": {},
   "source": [
    "## Adaboost"
   ]
  },
  {
   "cell_type": "code",
   "execution_count": 131,
   "id": "ed8b89ba",
   "metadata": {},
   "outputs": [
    {
     "name": "stdout",
     "output_type": "stream",
     "text": [
      "(1000, 10) (1000,)\n"
     ]
    }
   ],
   "source": [
    "from numpy import mean\n",
    "from numpy import std\n",
    "from sklearn.datasets import make_classification\n",
    "from sklearn.model_selection import cross_val_score\n",
    "from sklearn.model_selection import RepeatedStratifiedKFold\n",
    "from sklearn.ensemble import AdaBoostClassifier\n",
    "\n",
    "from sklearn.datasets import make_classification\n",
    "\n",
    "\n",
    "\n",
    "X, y = make_classification(n_samples=1000, n_features=10, n_informative=5, n_redundant=5, random_state=6)\n",
    "print(X.shape, y.shape)"
   ]
  },
  {
   "cell_type": "code",
   "execution_count": 132,
   "id": "a53015b3",
   "metadata": {},
   "outputs": [
    {
     "name": "stdout",
     "output_type": "stream",
     "text": [
      "Accuracy: 0.853 (0.029)\n"
     ]
    }
   ],
   "source": [
    "model = AdaBoostClassifier()\n",
    "\n",
    "n_scores = cross_val_score(model, X, y, scoring='accuracy', cv=5, n_jobs=-1)\n",
    "\n",
    "print('Accuracy: %.3f (%.3f)' % (mean(n_scores), std(n_scores)))"
   ]
  },
  {
   "cell_type": "code",
   "execution_count": null,
   "id": "967f0d61",
   "metadata": {},
   "outputs": [],
   "source": []
  },
  {
   "cell_type": "code",
   "execution_count": 133,
   "id": "e8d2335f",
   "metadata": {},
   "outputs": [
    {
     "data": {
      "text/plain": [
       "array([0.875, 0.86 , 0.865, 0.795, 0.87 ])"
      ]
     },
     "execution_count": 133,
     "metadata": {},
     "output_type": "execute_result"
    }
   ],
   "source": [
    "n_scores"
   ]
  },
  {
   "cell_type": "markdown",
   "id": "7e93a37e",
   "metadata": {},
   "source": [
    "## Lets play with hyper parameters"
   ]
  },
  {
   "cell_type": "code",
   "execution_count": 137,
   "id": "96d9229a",
   "metadata": {},
   "outputs": [
    {
     "name": "stdout",
     "output_type": "stream",
     "text": [
      "Accuracy: 0.844 (0.022)\n"
     ]
    }
   ],
   "source": [
    "# Number of trees to be built \n",
    "model = AdaBoostClassifier(n_estimators=2)\n",
    "n_scores = cross_val_score(model, X, y, scoring='accuracy', cv=5, n_jobs=-1)\n",
    "\n",
    "print('Accuracy: %.3f (%.3f)' % (mean(n_scores), std(n_scores)))"
   ]
  },
  {
   "cell_type": "code",
   "execution_count": 141,
   "id": "d413a520",
   "metadata": {},
   "outputs": [
    {
     "name": "stdout",
     "output_type": "stream",
     "text": [
      "Accuracy: 0.853 (0.029)\n"
     ]
    }
   ],
   "source": [
    "# Depth of DTs\n",
    "\n",
    "base = DecisionTreeClassifier(max_depth=1)\n",
    "model= AdaBoostClassifier(estimator=base)\n",
    "\n",
    "n_scores = cross_val_score(model, X, y, scoring='accuracy', cv=5, n_jobs=-1)\n",
    "\n",
    "print('Accuracy: %.3f (%.3f)' % (mean(n_scores), std(n_scores)))"
   ]
  },
  {
   "cell_type": "code",
   "execution_count": null,
   "id": "94b196ca",
   "metadata": {},
   "outputs": [],
   "source": []
  },
  {
   "cell_type": "markdown",
   "id": "ae20e830",
   "metadata": {},
   "source": [
    "## For regression "
   ]
  },
  {
   "cell_type": "code",
   "execution_count": 142,
   "id": "1a176a3b",
   "metadata": {},
   "outputs": [
    {
     "name": "stdout",
     "output_type": "stream",
     "text": [
      "[-77.34024412 -82.14866706 -74.12655219 -63.2081414  -75.63359601]\n",
      "MAE: -74.491 (6.253)\n"
     ]
    }
   ],
   "source": [
    "\n",
    "from numpy import mean\n",
    "from numpy import std\n",
    "from sklearn.datasets import make_regression\n",
    "from sklearn.model_selection import cross_val_score\n",
    "from sklearn.model_selection import RepeatedKFold\n",
    "from sklearn.ensemble import AdaBoostRegressor\n",
    "\n",
    "X, y = make_regression(n_samples=1000, n_features=20, n_informative=15, noise=0.1, random_state=6)\n",
    "\n",
    "model = AdaBoostRegressor()\n",
    "\n",
    "n_scores = cross_val_score(model, X, y, scoring='neg_mean_absolute_error', cv=5, n_jobs=-1, error_score='raise')\n",
    "print(n_scores)\n",
    "print('MAE: %.3f (%.3f)' % (mean(n_scores), std(n_scores)))"
   ]
  },
  {
   "cell_type": "code",
   "execution_count": null,
   "id": "69d82e2f",
   "metadata": {},
   "outputs": [],
   "source": []
  },
  {
   "cell_type": "code",
   "execution_count": null,
   "id": "ddf6a864",
   "metadata": {},
   "outputs": [],
   "source": []
  },
  {
   "cell_type": "markdown",
   "id": "982bf1de",
   "metadata": {},
   "source": [
    "## Gradient Boosting"
   ]
  },
  {
   "cell_type": "code",
   "execution_count": 143,
   "id": "87206f0f",
   "metadata": {},
   "outputs": [
    {
     "name": "stdout",
     "output_type": "stream",
     "text": [
      "Mean Accuracy: 0.902 (0.027)\n"
     ]
    }
   ],
   "source": [
    "\n",
    "from numpy import mean\n",
    "from numpy import std\n",
    "from sklearn.datasets import make_classification\n",
    "from sklearn.model_selection import cross_val_score\n",
    "from sklearn.model_selection import RepeatedStratifiedKFold\n",
    "from sklearn.ensemble import GradientBoostingClassifier\n",
    "\n",
    "X, y = make_classification(n_samples=1000, n_features=20, n_informative=15, n_redundant=5, random_state=7)\n",
    "\n",
    "model = GradientBoostingClassifier()\n",
    "\n",
    "n_scores = cross_val_score(model, X, y, scoring='accuracy', cv=5, n_jobs=-1)\n",
    "\n",
    "print('Mean Accuracy: %.3f (%.3f)' % (mean(n_scores), std(n_scores)))"
   ]
  },
  {
   "cell_type": "code",
   "execution_count": 144,
   "id": "acb20745",
   "metadata": {},
   "outputs": [
    {
     "data": {
      "text/plain": [
       "array([0.87 , 0.875, 0.94 , 0.9  , 0.925])"
      ]
     },
     "execution_count": 144,
     "metadata": {},
     "output_type": "execute_result"
    }
   ],
   "source": [
    "n_scores"
   ]
  },
  {
   "cell_type": "code",
   "execution_count": 145,
   "id": "6ee867af",
   "metadata": {},
   "outputs": [
    {
     "data": {
      "text/plain": [
       "(1000, 20)"
      ]
     },
     "execution_count": 145,
     "metadata": {},
     "output_type": "execute_result"
    }
   ],
   "source": [
    "X.shape"
   ]
  },
  {
   "cell_type": "code",
   "execution_count": 146,
   "id": "53e6266f",
   "metadata": {},
   "outputs": [
    {
     "data": {
      "text/plain": [
       "(1000,)"
      ]
     },
     "execution_count": 146,
     "metadata": {},
     "output_type": "execute_result"
    }
   ],
   "source": [
    "y.shape"
   ]
  },
  {
   "cell_type": "code",
   "execution_count": 158,
   "id": "fbeb0552",
   "metadata": {},
   "outputs": [
    {
     "name": "stdout",
     "output_type": "stream",
     "text": [
      "MAE: -57.815 (2.037)\n"
     ]
    }
   ],
   "source": [
    "from numpy import mean\n",
    "from numpy import std\n",
    "from sklearn.datasets import make_regression\n",
    "from sklearn.model_selection import cross_val_score\n",
    "from sklearn.model_selection import RepeatedKFold\n",
    "from sklearn.ensemble import GradientBoostingRegressor\n",
    "\n",
    "X, y = make_regression(n_samples=1000, n_features=20, n_informative=15, noise=0.1, random_state=7)\n",
    "\n",
    "#model = GradientBoostingRegressor()\n",
    "#model = GradientBoostingRegressor(n_estimators=10)\n",
    "model = GradientBoostingRegressor(learning_rate=0.2)\n",
    "\n",
    "n_scores = cross_val_score(model, X, y, scoring='neg_mean_absolute_error', cv=5, n_jobs=-1)\n",
    "\n",
    "print('MAE: %.3f (%.3f)' % (mean(n_scores), std(n_scores)))"
   ]
  },
  {
   "cell_type": "code",
   "execution_count": 152,
   "id": "d1b2dd76",
   "metadata": {},
   "outputs": [
    {
     "data": {
      "text/plain": [
       "array([-133.76131763, -131.94606542, -141.7229317 , -148.05631799,\n",
       "       -132.98009641])"
      ]
     },
     "execution_count": 152,
     "metadata": {},
     "output_type": "execute_result"
    }
   ],
   "source": [
    "n_scores"
   ]
  },
  {
   "cell_type": "code",
   "execution_count": null,
   "id": "c60e3845",
   "metadata": {},
   "outputs": [],
   "source": []
  },
  {
   "cell_type": "code",
   "execution_count": null,
   "id": "4a4f6257",
   "metadata": {},
   "outputs": [],
   "source": []
  },
  {
   "cell_type": "code",
   "execution_count": null,
   "id": "1d89d439",
   "metadata": {},
   "outputs": [],
   "source": []
  },
  {
   "cell_type": "code",
   "execution_count": 21,
   "id": "9c32ebac",
   "metadata": {},
   "outputs": [],
   "source": [
    "\n",
    "# import warnings filter\n",
    "from warnings import simplefilter\n",
    "# ignore all future warnings\n",
    "simplefilter(action='ignore', category=FutureWarning)"
   ]
  },
  {
   "cell_type": "code",
   "execution_count": null,
   "id": "3333209e",
   "metadata": {},
   "outputs": [],
   "source": []
  }
 ],
 "metadata": {
  "kernelspec": {
   "display_name": "Python 3 (ipykernel)",
   "language": "python",
   "name": "python3"
  },
  "language_info": {
   "codemirror_mode": {
    "name": "ipython",
    "version": 3
   },
   "file_extension": ".py",
   "mimetype": "text/x-python",
   "name": "python",
   "nbconvert_exporter": "python",
   "pygments_lexer": "ipython3",
   "version": "3.9.13"
  }
 },
 "nbformat": 4,
 "nbformat_minor": 5
}
